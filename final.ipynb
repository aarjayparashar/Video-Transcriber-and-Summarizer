{
 "cells": [
  {
   "cell_type": "code",
   "execution_count": 4,
   "metadata": {},
   "outputs": [
    {
     "name": "stdout",
     "output_type": "stream",
     "text": [
      "Requirement already satisfied: vosk in /Users/raktim/opt/anaconda3/envs/py39/lib/python3.9/site-packages (0.3.44)\n",
      "Requirement already satisfied: cffi>=1.0 in /Users/raktim/opt/anaconda3/envs/py39/lib/python3.9/site-packages (from vosk) (1.15.1)\n",
      "Requirement already satisfied: requests in /Users/raktim/opt/anaconda3/envs/py39/lib/python3.9/site-packages (from vosk) (2.31.0)\n",
      "Requirement already satisfied: tqdm in /Users/raktim/opt/anaconda3/envs/py39/lib/python3.9/site-packages (from vosk) (4.65.0)\n",
      "Requirement already satisfied: srt in /Users/raktim/opt/anaconda3/envs/py39/lib/python3.9/site-packages (from vosk) (3.5.3)\n",
      "Requirement already satisfied: websockets in /Users/raktim/opt/anaconda3/envs/py39/lib/python3.9/site-packages (from vosk) (12.0)\n",
      "Requirement already satisfied: pycparser in /Users/raktim/opt/anaconda3/envs/py39/lib/python3.9/site-packages (from cffi>=1.0->vosk) (2.21)\n",
      "Requirement already satisfied: charset-normalizer<4,>=2 in /Users/raktim/opt/anaconda3/envs/py39/lib/python3.9/site-packages (from requests->vosk) (2.0.4)\n",
      "Requirement already satisfied: idna<4,>=2.5 in /Users/raktim/opt/anaconda3/envs/py39/lib/python3.9/site-packages (from requests->vosk) (3.4)\n",
      "Requirement already satisfied: urllib3<3,>=1.21.1 in /Users/raktim/opt/anaconda3/envs/py39/lib/python3.9/site-packages (from requests->vosk) (1.26.16)\n",
      "Requirement already satisfied: certifi>=2017.4.17 in /Users/raktim/opt/anaconda3/envs/py39/lib/python3.9/site-packages (from requests->vosk) (2023.7.22)\n",
      "Note: you may need to restart the kernel to use updated packages.\n"
     ]
    }
   ],
   "source": [
    "%pip install vosk"
   ]
  },
  {
   "cell_type": "code",
   "execution_count": 5,
   "metadata": {},
   "outputs": [],
   "source": [
    "from vosk import Model, KaldiRecognizer"
   ]
  },
  {
   "cell_type": "code",
   "execution_count": 6,
   "metadata": {},
   "outputs": [
    {
     "name": "stderr",
     "output_type": "stream",
     "text": [
      "LOG (VoskAPI:ReadDataFiles():model.cc:213) Decoding params beam=13 max-active=7000 lattice-beam=6\n",
      "LOG (VoskAPI:ReadDataFiles():model.cc:216) Silence phones 1:2:3:4:5:11:12:13:14:15\n",
      "LOG (VoskAPI:RemoveOrphanNodes():nnet-nnet.cc:948) Removed 0 orphan nodes.\n",
      "LOG (VoskAPI:RemoveOrphanComponents():nnet-nnet.cc:847) Removing 0 orphan components.\n",
      "LOG (VoskAPI:ReadDataFiles():model.cc:248) Loading i-vector extractor from /Users/raktim/.cache/vosk/vosk-model-en-us-0.22/ivector/final.ie\n",
      "LOG (VoskAPI:ComputeDerivedVars():ivector-extractor.cc:183) Computing derived variables for iVector extractor\n",
      "LOG (VoskAPI:ComputeDerivedVars():ivector-extractor.cc:204) Done.\n",
      "LOG (VoskAPI:ReadDataFiles():model.cc:279) Loading HCLG from /Users/raktim/.cache/vosk/vosk-model-en-us-0.22/graph/HCLG.fst\n",
      "LOG (VoskAPI:ReadDataFiles():model.cc:294) Loading words from /Users/raktim/.cache/vosk/vosk-model-en-us-0.22/graph/words.txt\n",
      "LOG (VoskAPI:ReadDataFiles():model.cc:303) Loading winfo /Users/raktim/.cache/vosk/vosk-model-en-us-0.22/graph/phones/word_boundary.int\n",
      "LOG (VoskAPI:ReadDataFiles():model.cc:310) Loading subtract G.fst model from /Users/raktim/.cache/vosk/vosk-model-en-us-0.22/rescore/G.fst\n",
      "LOG (VoskAPI:ReadDataFiles():model.cc:312) Loading CARPA model from /Users/raktim/.cache/vosk/vosk-model-en-us-0.22/rescore/G.carpa\n",
      "LOG (VoskAPI:ReadDataFiles():model.cc:318) Loading RNNLM model from /Users/raktim/.cache/vosk/vosk-model-en-us-0.22/rnnlm/final.raw\n"
     ]
    }
   ],
   "source": [
    "FRAME_RATE = 16000\n",
    "CHANNELS=1\n",
    "\n",
    "model = Model(model_name=\"vosk-model-en-us-0.22\")\n",
    "# For a smaller download size, use model = Model(model_name=\"vosk-model-small-en-us-0.15\")\n",
    "rec = KaldiRecognizer(model, FRAME_RATE)\n",
    "rec.SetWords(True)"
   ]
  },
  {
   "cell_type": "code",
   "execution_count": 7,
   "metadata": {},
   "outputs": [
    {
     "name": "stdout",
     "output_type": "stream",
     "text": [
      "Requirement already satisfied: pydub in /Users/raktim/opt/anaconda3/envs/py39/lib/python3.9/site-packages (0.25.1)\n",
      "Note: you may need to restart the kernel to use updated packages.\n"
     ]
    }
   ],
   "source": [
    "%pip install pydub"
   ]
  },
  {
   "cell_type": "code",
   "execution_count": 8,
   "metadata": {},
   "outputs": [
    {
     "name": "stdout",
     "output_type": "stream",
     "text": [
      "Requirement already satisfied: pydub in /Users/raktim/opt/anaconda3/envs/py39/lib/python3.9/site-packages (0.25.1)\n",
      "Note: you may need to restart the kernel to use updated packages.\n"
     ]
    }
   ],
   "source": [
    "%pip install pydub"
   ]
  },
  {
   "cell_type": "code",
   "execution_count": 9,
   "metadata": {},
   "outputs": [],
   "source": [
    "from pydub import AudioSegment"
   ]
  },
  {
   "cell_type": "code",
   "execution_count": 10,
   "metadata": {},
   "outputs": [],
   "source": [
    "mp3 = AudioSegment.from_mp3(\"marketplace.mp3\")\n",
    "mp3 = mp3.set_channels(CHANNELS)\n",
    "mp3 = mp3.set_frame_rate(FRAME_RATE)"
   ]
  },
  {
   "cell_type": "code",
   "execution_count": 11,
   "metadata": {},
   "outputs": [],
   "source": [
    "rec.AcceptWaveform(mp3.raw_data)\n",
    "result = rec.Result()"
   ]
  },
  {
   "cell_type": "code",
   "execution_count": 12,
   "metadata": {},
   "outputs": [],
   "source": [
    "import json\n",
    "\n",
    "text = json.loads(result)[\"text\"]"
   ]
  },
  {
   "cell_type": "code",
   "execution_count": 13,
   "metadata": {},
   "outputs": [
    {
     "data": {
      "text/plain": [
       "{'result': [{'conf': 1.0, 'end': 0.18, 'start': 0.09, 'word': 'the'},\n",
       "  {'conf': 1.0, 'end': 0.57, 'start': 0.18, 'word': 'funny'},\n",
       "  {'conf': 1.0, 'end': 0.96, 'start': 0.6, 'word': 'thing'},\n",
       "  {'conf': 1.0, 'end': 1.23, 'start': 0.96, 'word': 'about'},\n",
       "  {'conf': 1.0, 'end': 1.32, 'start': 1.23, 'word': 'the'},\n",
       "  {'conf': 1.0, 'end': 1.68, 'start': 1.32, 'word': 'big'},\n",
       "  {'conf': 1.0, 'end': 2.22, 'start': 1.71, 'word': 'economic'},\n",
       "  {'conf': 1.0, 'end': 2.49, 'start': 2.22, 'word': 'news'},\n",
       "  {'conf': 1.0, 'end': 2.58, 'start': 2.49, 'word': 'of'},\n",
       "  {'conf': 1.0, 'end': 2.67, 'start': 2.58, 'word': 'the'},\n",
       "  {'conf': 1.0, 'end': 3.06, 'start': 2.67, 'word': 'day'},\n",
       "  {'conf': 1.0, 'end': 3.75, 'start': 3.63, 'word': 'the'},\n",
       "  {'conf': 1.0, 'end': 3.96, 'start': 3.75, 'word': 'fed'},\n",
       "  {'conf': 1.0, 'end': 4.26, 'start': 3.96, 'word': 'raising'},\n",
       "  {'conf': 1.0, 'end': 4.59, 'start': 4.26, 'word': 'interest'},\n",
       "  {'conf': 1.0, 'end': 4.98, 'start': 4.59, 'word': 'rates'},\n",
       "  {'conf': 1.0, 'end': 5.28, 'start': 5.01, 'word': 'half'},\n",
       "  {'conf': 1.0, 'end': 5.31, 'start': 5.28, 'word': 'a'},\n",
       "  {'conf': 1.0, 'end': 5.7, 'start': 5.31, 'word': 'percentage'},\n",
       "  {'conf': 1.0, 'end': 6.0, 'start': 5.7, 'word': 'point'},\n",
       "  {'conf': 1.0, 'end': 6.87, 'start': 6.6, 'word': 'was'},\n",
       "  {'conf': 1.0, 'end': 6.96, 'start': 6.87, 'word': 'that'},\n",
       "  {'conf': 1.0, 'end': 7.08, 'start': 6.96, 'word': 'there'},\n",
       "  {'conf': 1.0, 'end': 7.23, 'start': 7.08, 'word': 'was'},\n",
       "  {'conf': 1.0, 'end': 7.47, 'start': 7.23, 'word': 'only'},\n",
       "  {'conf': 1.0, 'end': 7.77, 'start': 7.47, 'word': 'really'},\n",
       "  {'conf': 1.0, 'end': 8.13, 'start': 7.77, 'word': 'one'},\n",
       "  {'conf': 1.0, 'end': 8.64, 'start': 8.13, 'word': 'tidbit'},\n",
       "  {'conf': 1.0, 'end': 8.82, 'start': 8.64, 'word': 'of'},\n",
       "  {'conf': 1.0, 'end': 9.27, 'start': 8.82, 'word': 'actual'},\n",
       "  {'conf': 1.0, 'end': 9.66, 'start': 9.27, 'word': 'news'},\n",
       "  {'conf': 1.0, 'end': 9.78, 'start': 9.66, 'word': 'in'},\n",
       "  {'conf': 1.0, 'end': 9.87, 'start': 9.78, 'word': 'the'},\n",
       "  {'conf': 1.0, 'end': 10.26, 'start': 9.87, 'word': 'news'},\n",
       "  {'conf': 1.0, 'end': 10.47, 'start': 10.29, 'word': 'and'},\n",
       "  {'conf': 1.0, 'end': 10.59, 'start': 10.47, 'word': 'the'},\n",
       "  {'conf': 1.0, 'end': 10.98, 'start': 10.59, 'word': 'interest'},\n",
       "  {'conf': 1.0, 'end': 11.19, 'start': 10.98, 'word': 'rate'},\n",
       "  {'conf': 1.0, 'end': 11.79, 'start': 11.19, 'word': 'increase'},\n",
       "  {'conf': 1.0, 'end': 12.87, 'start': 12.06, 'word': \"wasn't\"},\n",
       "  {'conf': 1.0, 'end': 13.35, 'start': 12.99, 'word': 'it'},\n",
       "  {'conf': 1.0, 'end': 13.62, 'start': 13.35, 'word': 'you'},\n",
       "  {'conf': 0.793334, 'end': 13.77, 'start': 13.62, 'word': 'knew'},\n",
       "  {'conf': 1.0, 'end': 13.89, 'start': 13.77, 'word': 'it'},\n",
       "  {'conf': 1.0, 'end': 14.01, 'start': 13.89, 'word': 'was'},\n",
       "  {'conf': 1.0, 'end': 14.4, 'start': 14.01, 'word': 'coming'},\n",
       "  {'conf': 1.0, 'end': 14.85, 'start': 14.58, 'word': 'i'},\n",
       "  {'conf': 0.893087, 'end': 15.03, 'start': 14.85, 'word': 'knew'},\n",
       "  {'conf': 1.0, 'end': 15.15, 'start': 15.03, 'word': 'it'},\n",
       "  {'conf': 1.0, 'end': 15.3, 'start': 15.15, 'word': 'was'},\n",
       "  {'conf': 1.0, 'end': 15.66, 'start': 15.3, 'word': 'common'},\n",
       "  {'conf': 1.0, 'end': 16.11, 'start': 15.66, 'word': 'wall'},\n",
       "  {'conf': 1.0, 'end': 16.47, 'start': 16.11, 'word': 'street'},\n",
       "  {'conf': 1.0, 'end': 16.86, 'start': 16.47, 'word': 'news'},\n",
       "  {'conf': 1.0, 'end': 17.07, 'start': 16.86, 'word': 'come'},\n",
       "  {'conf': 1.0, 'end': 17.19, 'start': 17.07, 'word': 'and'},\n",
       "  {'conf': 1.0, 'end': 18.21, 'start': 17.19, 'word': 'businesses'},\n",
       "  {'conf': 1.0, 'end': 18.6, 'start': 18.24, 'word': 'knew'},\n",
       "  {'conf': 1.0, 'end': 18.75, 'start': 18.6, 'word': 'it'},\n",
       "  {'conf': 1.0, 'end': 18.93, 'start': 18.75, 'word': 'was'},\n",
       "  {'conf': 0.688553, 'end': 19.29, 'start': 18.93, 'word': 'common'},\n",
       "  {'conf': 1.0, 'end': 20.07, 'start': 19.74, 'word': 'so'},\n",
       "  {'conf': 1.0, 'end': 20.46, 'start': 20.07, 'word': 'on'},\n",
       "  {'conf': 1.0, 'end': 20.76, 'start': 20.49, 'word': 'this'},\n",
       "  {'conf': 1.0, 'end': 21.0, 'start': 20.76, 'word': 'fed'},\n",
       "  {'conf': 1.0, 'end': 21.21, 'start': 21.0, 'word': 'day'},\n",
       "  {'conf': 1.0, 'end': 21.33, 'start': 21.21, 'word': 'on'},\n",
       "  {'conf': 1.0, 'end': 21.48, 'start': 21.33, 'word': 'this'},\n",
       "  {'conf': 1.0, 'end': 21.9, 'start': 21.48, 'word': 'program'},\n",
       "  {'conf': 1.0, 'end': 22.29, 'start': 21.9, 'word': 'something'},\n",
       "  {'conf': 1.0, 'end': 22.35, 'start': 22.29, 'word': 'a'},\n",
       "  {'conf': 1.0, 'end': 22.53, 'start': 22.35, 'word': 'little'},\n",
       "  {'conf': 1.0, 'end': 22.65, 'start': 22.53, 'word': 'bit'},\n",
       "  {'conf': 1.0, 'end': 22.98, 'start': 22.65, 'word': 'different'},\n",
       "  {'conf': 1.0, 'end': 23.22, 'start': 22.98, 'word': 'jay'},\n",
       "  {'conf': 1.0, 'end': 23.73, 'start': 23.22, 'word': 'powell'},\n",
       "  {'conf': 1.0, 'end': 23.88, 'start': 23.73, 'word': 'in'},\n",
       "  {'conf': 1.0, 'end': 24.03, 'start': 23.88, 'word': 'his'},\n",
       "  {'conf': 1.0, 'end': 24.3, 'start': 24.03, 'word': 'own'},\n",
       "  {'conf': 1.0, 'end': 24.63, 'start': 24.3, 'word': 'words'},\n",
       "  {'conf': 1.0, 'end': 25.11, 'start': 24.63, 'word': 'five'},\n",
       "  {'conf': 1.0, 'end': 25.26, 'start': 25.11, 'word': 'of'},\n",
       "  {'conf': 1.0, 'end': 25.41, 'start': 25.26, 'word': \"'em\"},\n",
       "  {'conf': 1.0, 'end': 25.65, 'start': 25.41, 'word': 'his'},\n",
       "  {'conf': 1.0, 'end': 26.16, 'start': 25.65, 'word': 'most'},\n",
       "  {'conf': 1.0, 'end': 26.64, 'start': 26.19, 'word': 'used'},\n",
       "  {'conf': 1.0, 'end': 27.143511, 'start': 26.64, 'word': 'economic'},\n",
       "  {'conf': 0.617531, 'end': 27.359998, 'start': 27.149998, 'word': 'words'},\n",
       "  {'conf': 1.0, 'end': 27.54, 'start': 27.36, 'word': 'from'},\n",
       "  {'conf': 1.0, 'end': 27.81, 'start': 27.54, 'word': \"today's\"},\n",
       "  {'conf': 1.0, 'end': 28.02, 'start': 27.81, 'word': 'press'},\n",
       "  {'conf': 1.0, 'end': 28.38, 'start': 28.02, 'word': 'conference'},\n",
       "  {'conf': 0.628858, 'end': 29.07, 'start': 28.86, 'word': 'were'},\n",
       "  {'conf': 1.0, 'end': 29.31, 'start': 29.07, 'word': 'number'},\n",
       "  {'conf': 1.0, 'end': 29.58, 'start': 29.31, 'word': 'one'},\n",
       "  {'conf': 1.0, 'end': 29.64, 'start': 29.58, 'word': 'of'},\n",
       "  {'conf': 1.0, 'end': 30.12, 'start': 29.64, 'word': 'course'},\n",
       "  {'conf': 1.0, 'end': 30.39, 'start': 30.12, 'word': \"it's\"},\n",
       "  {'conf': 1.0, 'end': 30.48, 'start': 30.39, 'word': 'the'},\n",
       "  {'conf': 1.0, 'end': 30.87, 'start': 30.48, 'word': 'biggie'},\n",
       "  {'conf': 1.0, 'end': 31.44, 'start': 31.23, 'word': 'two'},\n",
       "  {'conf': 0.524751, 'end': 31.86, 'start': 31.44, 'word': 'percent'},\n",
       "  {'conf': 1.0, 'end': 32.37, 'start': 31.92, 'word': 'inflation'},\n",
       "  {'conf': 1.0, 'end': 32.7, 'start': 32.37, 'word': 'inflation'},\n",
       "  {'conf': 1.0, 'end': 33.21, 'start': 32.7, 'word': 'inflation'},\n",
       "  {'conf': 1.0, 'end': 33.81, 'start': 33.21, 'word': 'inflation'},\n",
       "  {'conf': 1.0, 'end': 34.41, 'start': 33.84, 'word': 'inflation'},\n",
       "  {'conf': 1.0, 'end': 34.77, 'start': 34.41, 'word': 'inflation'},\n",
       "  {'conf': 0.720381, 'end': 35.07, 'start': 34.77, 'word': 'lh'},\n",
       "  {'conf': 1.0, 'end': 35.4, 'start': 35.083759, 'word': 'dealing'},\n",
       "  {'conf': 1.0, 'end': 35.55, 'start': 35.4, 'word': 'with'},\n",
       "  {'conf': 1.0, 'end': 36.03, 'start': 35.55, 'word': 'inflation'},\n",
       "  {'conf': 1.0, 'end': 36.63, 'start': 36.3, 'word': 'pals'},\n",
       "  {'conf': 1.0, 'end': 36.87, 'start': 36.63, 'word': 'big'},\n",
       "  {'conf': 1.0, 'end': 37.17, 'start': 36.87, 'word': 'worry'},\n",
       "  {'conf': 1.0, 'end': 37.29, 'start': 37.17, 'word': 'the'},\n",
       "  {'conf': 1.0, 'end': 37.56, 'start': 37.29, 'word': 'thing'},\n",
       "  {'conf': 1.0, 'end': 37.92, 'start': 37.56, 'word': 'keeping'},\n",
       "  {'conf': 1.0, 'end': 38.07, 'start': 37.92, 'word': 'him'},\n",
       "  {'conf': 1.0, 'end': 38.25, 'start': 38.07, 'word': 'up'},\n",
       "  {'conf': 1.0, 'end': 38.37, 'start': 38.25, 'word': 'at'},\n",
       "  {'conf': 1.0, 'end': 38.67, 'start': 38.37, 'word': 'night'},\n",
       "  {'conf': 1.0, 'end': 39.27, 'start': 38.67, 'word': 'price'},\n",
       "  {'conf': 1.0, 'end': 40.38, 'start': 39.3, 'word': 'stability'},\n",
       "  {'conf': 1.0, 'end': 40.65, 'start': 40.38, 'word': 'is'},\n",
       "  {'conf': 1.0, 'end': 40.77, 'start': 40.65, 'word': 'the'},\n",
       "  {'conf': 0.997539, 'end': 41.13, 'start': 40.77, 'word': \"fed's\"},\n",
       "  {'conf': 1.0, 'end': 41.67, 'start': 41.16, 'word': 'whole'},\n",
       "  {'conf': 0.972299, 'end': 42.3, 'start': 41.67, 'word': 'ballgame'},\n",
       "  {'conf': 1.0, 'end': 42.48, 'start': 42.3, 'word': 'right'},\n",
       "  {'conf': 1.0, 'end': 42.72, 'start': 42.48, 'word': 'now'},\n",
       "  {'conf': 0.523154, 'end': 43.14, 'start': 42.72, 'word': 'pau'},\n",
       "  {'conf': 1.0, 'end': 43.62, 'start': 43.14, 'word': 'basically'},\n",
       "  {'conf': 1.0, 'end': 44.04, 'start': 43.62, 'word': 'said'},\n",
       "  {'conf': 1.0, 'end': 44.28, 'start': 44.04, 'word': 'as'},\n",
       "  {'conf': 1.0, 'end': 44.64, 'start': 44.28, 'word': 'much'},\n",
       "  {'conf': 0.72897, 'end': 45.15, 'start': 44.76, 'word': 'today'},\n",
       "  {'conf': 0.288476, 'end': 45.3274, 'start': 45.15, 'word': \"we're\"}],\n",
       " 'text': \"the funny thing about the big economic news of the day the fed raising interest rates half a percentage point was that there was only really one tidbit of actual news in the news and the interest rate increase wasn't it you knew it was coming i knew it was common wall street news come and businesses knew it was common so on this fed day on this program something a little bit different jay powell in his own words five of 'em his most used economic words from today's press conference were number one of course it's the biggie two percent inflation inflation inflation inflation inflation inflation lh dealing with inflation pals big worry the thing keeping him up at night price stability is the fed's whole ballgame right now pau basically said as much today we're\"}"
      ]
     },
     "execution_count": 13,
     "metadata": {},
     "output_type": "execute_result"
    }
   ],
   "source": [
    "json.loads(result)"
   ]
  },
  {
   "cell_type": "code",
   "execution_count": 14,
   "metadata": {},
   "outputs": [
    {
     "data": {
      "text/plain": [
       "\"the funny thing about the big economic news of the day the fed raising interest rates half a percentage point was that there was only really one tidbit of actual news in the news and the interest rate increase wasn't it you knew it was coming i knew it was common wall street news come and businesses knew it was common so on this fed day on this program something a little bit different jay powell in his own words five of 'em his most used economic words from today's press conference were number one of course it's the biggie two percent inflation inflation inflation inflation inflation inflation lh dealing with inflation pals big worry the thing keeping him up at night price stability is the fed's whole ballgame right now pau basically said as much today we're\""
      ]
     },
     "execution_count": 14,
     "metadata": {},
     "output_type": "execute_result"
    }
   ],
   "source": [
    "text"
   ]
  },
  {
   "cell_type": "markdown",
   "metadata": {},
   "source": [
    "Add punctuation."
   ]
  },
  {
   "cell_type": "code",
   "execution_count": 18,
   "metadata": {},
   "outputs": [
    {
     "name": "stdout",
     "output_type": "stream",
     "text": [
      "Collecting transformers==4.16.2\n",
      "  Downloading transformers-4.16.2-py3-none-any.whl (3.5 MB)\n",
      "\u001b[2K     \u001b[90m━━━━━━━━━━━━━━━━━━━━━━━━━━━━━━━━━━━━━━━━\u001b[0m \u001b[32m3.5/3.5 MB\u001b[0m \u001b[31m14.0 MB/s\u001b[0m eta \u001b[36m0:00:00\u001b[0m00:01\u001b[0m00:01\u001b[0m\n",
      "\u001b[?25hRequirement already satisfied: filelock in /Users/raktim/opt/anaconda3/envs/py39/lib/python3.9/site-packages (from transformers==4.16.2) (3.9.0)\n",
      "Requirement already satisfied: huggingface-hub<1.0,>=0.1.0 in /Users/raktim/opt/anaconda3/envs/py39/lib/python3.9/site-packages (from transformers==4.16.2) (0.15.1)\n",
      "Requirement already satisfied: numpy>=1.17 in /Users/raktim/opt/anaconda3/envs/py39/lib/python3.9/site-packages (from transformers==4.16.2) (1.24.3)\n",
      "Requirement already satisfied: packaging>=20.0 in /Users/raktim/opt/anaconda3/envs/py39/lib/python3.9/site-packages (from transformers==4.16.2) (23.1)\n",
      "Requirement already satisfied: pyyaml>=5.1 in /Users/raktim/opt/anaconda3/envs/py39/lib/python3.9/site-packages (from transformers==4.16.2) (6.0)\n",
      "Requirement already satisfied: regex!=2019.12.17 in /Users/raktim/opt/anaconda3/envs/py39/lib/python3.9/site-packages (from transformers==4.16.2) (2022.7.9)\n",
      "Requirement already satisfied: requests in /Users/raktim/opt/anaconda3/envs/py39/lib/python3.9/site-packages (from transformers==4.16.2) (2.31.0)\n",
      "Collecting sacremoses (from transformers==4.16.2)\n",
      "  Obtaining dependency information for sacremoses from https://files.pythonhosted.org/packages/0b/f0/89ee2bc9da434bd78464f288fdb346bc2932f2ee80a90b2a4bbbac262c74/sacremoses-0.1.1-py3-none-any.whl.metadata\n",
      "  Downloading sacremoses-0.1.1-py3-none-any.whl.metadata (8.3 kB)\n",
      "Requirement already satisfied: tokenizers!=0.11.3,>=0.10.1 in /Users/raktim/opt/anaconda3/envs/py39/lib/python3.9/site-packages (from transformers==4.16.2) (0.13.2)\n",
      "Requirement already satisfied: tqdm>=4.27 in /Users/raktim/opt/anaconda3/envs/py39/lib/python3.9/site-packages (from transformers==4.16.2) (4.65.0)\n",
      "Requirement already satisfied: fsspec in /Users/raktim/opt/anaconda3/envs/py39/lib/python3.9/site-packages (from huggingface-hub<1.0,>=0.1.0->transformers==4.16.2) (2023.4.0)\n",
      "Requirement already satisfied: typing-extensions>=3.7.4.3 in /Users/raktim/opt/anaconda3/envs/py39/lib/python3.9/site-packages (from huggingface-hub<1.0,>=0.1.0->transformers==4.16.2) (4.7.1)\n",
      "Requirement already satisfied: charset-normalizer<4,>=2 in /Users/raktim/opt/anaconda3/envs/py39/lib/python3.9/site-packages (from requests->transformers==4.16.2) (2.0.4)\n",
      "Requirement already satisfied: idna<4,>=2.5 in /Users/raktim/opt/anaconda3/envs/py39/lib/python3.9/site-packages (from requests->transformers==4.16.2) (3.4)\n",
      "Requirement already satisfied: urllib3<3,>=1.21.1 in /Users/raktim/opt/anaconda3/envs/py39/lib/python3.9/site-packages (from requests->transformers==4.16.2) (1.26.16)\n",
      "Requirement already satisfied: certifi>=2017.4.17 in /Users/raktim/opt/anaconda3/envs/py39/lib/python3.9/site-packages (from requests->transformers==4.16.2) (2023.7.22)\n",
      "Requirement already satisfied: click in /Users/raktim/opt/anaconda3/envs/py39/lib/python3.9/site-packages (from sacremoses->transformers==4.16.2) (8.0.4)\n",
      "Requirement already satisfied: joblib in /Users/raktim/opt/anaconda3/envs/py39/lib/python3.9/site-packages (from sacremoses->transformers==4.16.2) (1.2.0)\n",
      "Downloading sacremoses-0.1.1-py3-none-any.whl (897 kB)\n",
      "\u001b[2K   \u001b[90m━━━━━━━━━━━━━━━━━━━━━━━━━━━━━━━━━━━━━━━━\u001b[0m \u001b[32m897.5/897.5 kB\u001b[0m \u001b[31m31.1 MB/s\u001b[0m eta \u001b[36m0:00:00\u001b[0m\n",
      "\u001b[?25hInstalling collected packages: sacremoses, transformers\n",
      "  Attempting uninstall: transformers\n",
      "    Found existing installation: transformers 4.32.1\n",
      "    Uninstalling transformers-4.32.1:\n",
      "      Successfully uninstalled transformers-4.32.1\n",
      "Successfully installed sacremoses-0.1.1 transformers-4.16.2\n",
      "Note: you may need to restart the kernel to use updated packages.\n",
      "Requirement already satisfied: torch in /Users/raktim/opt/anaconda3/envs/py39/lib/python3.9/site-packages (2.1.1)\n",
      "Requirement already satisfied: filelock in /Users/raktim/opt/anaconda3/envs/py39/lib/python3.9/site-packages (from torch) (3.9.0)\n",
      "Requirement already satisfied: typing-extensions in /Users/raktim/opt/anaconda3/envs/py39/lib/python3.9/site-packages (from torch) (4.7.1)\n",
      "Requirement already satisfied: sympy in /Users/raktim/opt/anaconda3/envs/py39/lib/python3.9/site-packages (from torch) (1.11.1)\n",
      "Requirement already satisfied: networkx in /Users/raktim/opt/anaconda3/envs/py39/lib/python3.9/site-packages (from torch) (3.1)\n",
      "Requirement already satisfied: jinja2 in /Users/raktim/opt/anaconda3/envs/py39/lib/python3.9/site-packages (from torch) (3.1.2)\n",
      "Requirement already satisfied: fsspec in /Users/raktim/opt/anaconda3/envs/py39/lib/python3.9/site-packages (from torch) (2023.4.0)\n",
      "Requirement already satisfied: MarkupSafe>=2.0 in /Users/raktim/opt/anaconda3/envs/py39/lib/python3.9/site-packages (from jinja2->torch) (2.1.1)\n",
      "Requirement already satisfied: mpmath>=0.19 in /Users/raktim/opt/anaconda3/envs/py39/lib/python3.9/site-packages (from sympy->torch) (1.3.0)\n",
      "Note: you may need to restart the kernel to use updated packages.\n"
     ]
    }
   ],
   "source": [
    "%pip install transformers==4.16.2\n",
    "%pip install torch "
   ]
  },
  {
   "cell_type": "code",
   "execution_count": 19,
   "metadata": {},
   "outputs": [
    {
     "name": "stderr",
     "output_type": "stream",
     "text": [
      "WARNING: reverting to cpu as cuda is not available\n",
      "Some weights of the model checkpoint at bert-base-uncased were not used when initializing BertModel: ['cls.predictions.transform.dense.weight', 'cls.predictions.transform.LayerNorm.bias', 'cls.predictions.decoder.weight', 'cls.seq_relationship.bias', 'cls.predictions.transform.dense.bias', 'cls.predictions.transform.LayerNorm.weight', 'cls.predictions.bias', 'cls.seq_relationship.weight']\n",
      "- This IS expected if you are initializing BertModel from the checkpoint of a model trained on another task or with another architecture (e.g. initializing a BertForSequenceClassification model from a BertForPreTraining model).\n",
      "- This IS NOT expected if you are initializing BertModel from the checkpoint of a model that you expect to be exactly identical (initializing a BertForSequenceClassification model from a BertForSequenceClassification model).\n"
     ]
    }
   ],
   "source": [
    "import subprocess\n",
    "cased = subprocess.check_output('python recasepunc/recasepunc.py predict recasepunc/checkpoint', shell=True, text=True, input=text)"
   ]
  },
  {
   "cell_type": "code",
   "execution_count": 20,
   "metadata": {},
   "outputs": [
    {
     "data": {
      "text/plain": [
       "\"The funny thing about the big economic news of the day, the Fed raising interest rates half a percentage point, was that there was only really one tidbit of actual news in the news. And the interest rate increase, wasn ' t it. You knew it was coming. I knew it was common. Wall Street news come and businesses knew it was common. So on this Fed day, on this program, something a little bit different. Jay Powell, in his own words, five of ' em. His most used economic words from today ' s press conference were number one, Of course, it ' s the biggie Two percent inflation, inflation, inflation, inflation, inflation, inflation. Lh dealing with inflation pals Big worry. The thing keeping him up at night, price stability, is the Fed ' s whole ballgame right now. Pau basically said as much today. We ' re.\\n\""
      ]
     },
     "execution_count": 20,
     "metadata": {},
     "output_type": "execute_result"
    }
   ],
   "source": [
    "cased"
   ]
  },
  {
   "cell_type": "code",
   "execution_count": 28,
   "metadata": {},
   "outputs": [],
   "source": [
    "def voice_recognition(filename):\n",
    "    model = Model(model_name=\"vosk-model-en-us-0.22\")\n",
    "    rec = KaldiRecognizer(model, FRAME_RATE)\n",
    "    rec.SetWords(True)\n",
    "    \n",
    "    mp3 = AudioSegment.from_mp3(filename)\n",
    "    mp3 = mp3.set_channels(CHANNELS)\n",
    "    mp3 = mp3.set_frame_rate(FRAME_RATE)\n",
    "    \n",
    "    step = 45000\n",
    "    transcript = \"\"\n",
    "    for i in range(0, len(mp3), step):\n",
    "        print(f\"Progress: {i/len(mp3)}\")\n",
    "        segment = mp3[i:i+step]\n",
    "        rec.AcceptWaveform(segment.raw_data)\n",
    "        result = rec.Result()\n",
    "        text = json.loads(result)[\"text\"]\n",
    "        transcript += text\n",
    "    \n",
    "    cased = subprocess.check_output('python recasepunc/recasepunc.py predict recasepunc/checkpoint', shell=True, text=True, input=transcript)\n",
    "    return cased"
   ]
  },
  {
   "cell_type": "code",
   "execution_count": 29,
   "metadata": {},
   "outputs": [
    {
     "name": "stderr",
     "output_type": "stream",
     "text": [
      "LOG (VoskAPI:ReadDataFiles():model.cc:213) Decoding params beam=13 max-active=7000 lattice-beam=6\n",
      "LOG (VoskAPI:ReadDataFiles():model.cc:216) Silence phones 1:2:3:4:5:11:12:13:14:15\n",
      "LOG (VoskAPI:RemoveOrphanNodes():nnet-nnet.cc:948) Removed 0 orphan nodes.\n",
      "LOG (VoskAPI:RemoveOrphanComponents():nnet-nnet.cc:847) Removing 0 orphan components.\n",
      "LOG (VoskAPI:ReadDataFiles():model.cc:248) Loading i-vector extractor from /Users/raktim/.cache/vosk/vosk-model-en-us-0.22/ivector/final.ie\n",
      "LOG (VoskAPI:ComputeDerivedVars():ivector-extractor.cc:183) Computing derived variables for iVector extractor\n",
      "LOG (VoskAPI:ComputeDerivedVars():ivector-extractor.cc:204) Done.\n",
      "LOG (VoskAPI:ReadDataFiles():model.cc:279) Loading HCLG from /Users/raktim/.cache/vosk/vosk-model-en-us-0.22/graph/HCLG.fst\n",
      "LOG (VoskAPI:ReadDataFiles():model.cc:294) Loading words from /Users/raktim/.cache/vosk/vosk-model-en-us-0.22/graph/words.txt\n",
      "LOG (VoskAPI:ReadDataFiles():model.cc:303) Loading winfo /Users/raktim/.cache/vosk/vosk-model-en-us-0.22/graph/phones/word_boundary.int\n",
      "LOG (VoskAPI:ReadDataFiles():model.cc:310) Loading subtract G.fst model from /Users/raktim/.cache/vosk/vosk-model-en-us-0.22/rescore/G.fst\n",
      "LOG (VoskAPI:ReadDataFiles():model.cc:312) Loading CARPA model from /Users/raktim/.cache/vosk/vosk-model-en-us-0.22/rescore/G.carpa\n",
      "LOG (VoskAPI:ReadDataFiles():model.cc:318) Loading RNNLM model from /Users/raktim/.cache/vosk/vosk-model-en-us-0.22/rnnlm/final.raw\n"
     ]
    },
    {
     "name": "stdout",
     "output_type": "stream",
     "text": [
      "Progress: 0.0\n",
      "Progress: 0.9782608695652174\n"
     ]
    },
    {
     "name": "stderr",
     "output_type": "stream",
     "text": [
      "WARNING: reverting to cpu as cuda is not available\n",
      "Some weights of the model checkpoint at bert-base-uncased were not used when initializing BertModel: ['cls.predictions.transform.dense.bias', 'cls.seq_relationship.bias', 'cls.predictions.transform.dense.weight', 'cls.predictions.transform.LayerNorm.weight', 'cls.predictions.decoder.weight', 'cls.predictions.bias', 'cls.predictions.transform.LayerNorm.bias', 'cls.seq_relationship.weight']\n",
      "- This IS expected if you are initializing BertModel from the checkpoint of a model trained on another task or with another architecture (e.g. initializing a BertForSequenceClassification model from a BertForPreTraining model).\n",
      "- This IS NOT expected if you are initializing BertModel from the checkpoint of a model that you expect to be exactly identical (initializing a BertForSequenceClassification model from a BertForSequenceClassification model).\n"
     ]
    }
   ],
   "source": [
    "transcript = voice_recognition('marketplace.mp3')"
   ]
  },
  {
   "cell_type": "code",
   "execution_count": 30,
   "metadata": {},
   "outputs": [
    {
     "data": {
      "text/plain": [
       "\"The funny thing about the big economic news of the day, the Fed raising interest rates half a percentage point was that there was only really one tidbit of actual news in the news. And the interest rate increase, wasn ' t it. You knew it was coming. I knew it was common Wall Street news come and businesses knew it was common. So on this Fed day on this program, something a little bit different. Jay Powell, in his own words, five of ' em. His most used economic words from today ' s press conference were Number one, Of course, it ' s the biggie Two percent inflation, inflation, inflation, inflation, inflation, inflation. Lh Dealing with inflation pals Big worry. The thing keeping him up at night, price stability, is the Fed ' s whole ballgame right now. Pau basically said as muchmuch to day award.\\n\""
      ]
     },
     "execution_count": 30,
     "metadata": {},
     "output_type": "execute_result"
    }
   ],
   "source": [
    "transcript"
   ]
  },
  {
   "cell_type": "markdown",
   "metadata": {},
   "source": [
    "Summarizer"
   ]
  },
  {
   "cell_type": "code",
   "execution_count": 31,
   "metadata": {},
   "outputs": [
    {
     "name": "stderr",
     "output_type": "stream",
     "text": [
      "No model was supplied, defaulted to sshleifer/distilbart-cnn-12-6 (https://huggingface.co/sshleifer/distilbart-cnn-12-6)\n"
     ]
    }
   ],
   "source": [
    "from transformers import pipeline\n",
    "\n",
    "summarizer = pipeline('summarization')"
   ]
  },
  {
   "cell_type": "code",
   "execution_count": 32,
   "metadata": {},
   "outputs": [],
   "source": [
    "split_tokens = transcript.split(\" \")\n",
    "docs = []\n",
    "\n",
    "for i in range(0, len(split_tokens), 850):\n",
    "    selection = \" \".join(split_tokens[i:(i + 850)])\n",
    "    docs.append(selection)"
   ]
  },
  {
   "cell_type": "code",
   "execution_count": 33,
   "metadata": {},
   "outputs": [],
   "source": [
    "summaries = summarizer(docs)"
   ]
  },
  {
   "cell_type": "code",
   "execution_count": 34,
   "metadata": {},
   "outputs": [],
   "source": [
    "summary = \"\\n\\n\".join([d[\"summary_text\"] for d in summaries])"
   ]
  },
  {
   "cell_type": "code",
   "execution_count": 35,
   "metadata": {},
   "outputs": [
    {
     "name": "stdout",
     "output_type": "stream",
     "text": [
      " Jay Powell says price stability is the thing keeping him up at night, price stability, is the Fed 's whole ballgame right now . Pauletta says the Fed raised interest rates by half a percentage point on Wednesday . Powell: \"Price stability\" is the key to keeping him awake at night .\n"
     ]
    }
   ],
   "source": [
    "print(summary)"
   ]
  },
  {
   "cell_type": "code",
   "execution_count": null,
   "metadata": {},
   "outputs": [],
   "source": []
  }
 ],
 "metadata": {
  "kernelspec": {
   "display_name": "py39",
   "language": "python",
   "name": "python3"
  },
  "language_info": {
   "codemirror_mode": {
    "name": "ipython",
    "version": 3
   },
   "file_extension": ".py",
   "mimetype": "text/x-python",
   "name": "python",
   "nbconvert_exporter": "python",
   "pygments_lexer": "ipython3",
   "version": "3.9.18"
  }
 },
 "nbformat": 4,
 "nbformat_minor": 2
}
